{
    "cells": [
        {
            "cell_type": "code",
            "execution_count": 27,
            "source": [
                "from bs4 import BeautifulSoup\r\n",
                "import requests\r\n",
                "from selenium import webdriver\r\n",
                "from selenium.webdriver.chrome.options import Options\r\n",
                "from webdriver_manager.chrome import ChromeDriverManager"
            ],
            "outputs": [],
            "metadata": {}
        },
        {
            "cell_type": "code",
            "execution_count": 29,
            "source": [
                "from selenium import webdriver\r\n",
                "\r\n",
                "driver_path = \"../webdriver/chromedriver.exe\"\r\n",
                "brave_path = r\"C:\\Program Files\\BraveSoftware\\Brave-Browser\\Application\\brave.exe\"\r\n",
                "\r\n",
                "\r\n",
                "option = webdriver.ChromeOptions()\r\n",
                "option.binary_location = brave_path\r\n",
                "option.add_argument(\"--incognito\") \r\n",
                "# option.add_argument(\"--headless\") OPTIONAL\r\n",
                "\r\n",
                "# Create new Instance of Chrome\r\n",
                "browser = webdriver.Chrome(executable_path=driver_path, chrome_options=option)\r\n",
                "\r\n",
                "browser.get(\"https://www.google.com\")"
            ],
            "outputs": [
                {
                    "output_type": "stream",
                    "name": "stderr",
                    "text": [
                        "C:\\Users\\ASUS\\anaconda3\\envs\\envpytorch\\lib\\site-packages\\ipykernel_launcher.py:13: DeprecationWarning: use options instead of chrome_options\n",
                        "  del sys.path[0]\n"
                    ]
                }
            ],
            "metadata": {}
        },
        {
            "cell_type": "markdown",
            "source": [
                "## Selenium Setup"
            ],
            "metadata": {}
        },
        {
            "cell_type": "code",
            "execution_count": 26,
            "source": [
                "driver_path = \"../webdriver/chromedriver.exe\"\r\n",
                "binary_path = r\"C:\\Program Files\\BraveSoftware\\Brave-Browser\\Application\\brave.exe\"\r\n",
                "options = Options()\r\n",
                "options.binary_location = binary_path\r\n",
                "options.add_argument('--ignore-certificate-errors')\r\n",
                "options.add_argument('--incognito')\r\n",
                "driver = webdriver.Chrome(ChromeDriverManager().install(), options=options)"
            ],
            "outputs": [
                {
                    "output_type": "stream",
                    "name": "stderr",
                    "text": [
                        "\n",
                        "\n",
                        "====== WebDriver manager ======\n"
                    ]
                },
                {
                    "output_type": "error",
                    "ename": "ValueError",
                    "evalue": "Could not get version for Chrome with this command: reg query \"HKEY_CURRENT_USER\\Software\\Google\\Chrome\\BLBeacon\" /v version",
                    "traceback": [
                        "\u001b[1;31m---------------------------------------------------------------------------\u001b[0m",
                        "\u001b[1;31mValueError\u001b[0m                                Traceback (most recent call last)",
                        "\u001b[1;32m<ipython-input-26-49159d3a490f>\u001b[0m in \u001b[0;36m<module>\u001b[1;34m\u001b[0m\n\u001b[0;32m      5\u001b[0m \u001b[0moptions\u001b[0m\u001b[1;33m.\u001b[0m\u001b[0madd_argument\u001b[0m\u001b[1;33m(\u001b[0m\u001b[1;34m'--ignore-certificate-errors'\u001b[0m\u001b[1;33m)\u001b[0m\u001b[1;33m\u001b[0m\u001b[1;33m\u001b[0m\u001b[0m\n\u001b[0;32m      6\u001b[0m \u001b[0moptions\u001b[0m\u001b[1;33m.\u001b[0m\u001b[0madd_argument\u001b[0m\u001b[1;33m(\u001b[0m\u001b[1;34m'--incognito'\u001b[0m\u001b[1;33m)\u001b[0m\u001b[1;33m\u001b[0m\u001b[1;33m\u001b[0m\u001b[0m\n\u001b[1;32m----> 7\u001b[1;33m \u001b[0mdriver\u001b[0m \u001b[1;33m=\u001b[0m \u001b[0mwebdriver\u001b[0m\u001b[1;33m.\u001b[0m\u001b[0mChrome\u001b[0m\u001b[1;33m(\u001b[0m\u001b[0mChromeDriverManager\u001b[0m\u001b[1;33m(\u001b[0m\u001b[1;33m)\u001b[0m\u001b[1;33m.\u001b[0m\u001b[0minstall\u001b[0m\u001b[1;33m(\u001b[0m\u001b[1;33m)\u001b[0m\u001b[1;33m,\u001b[0m \u001b[0moptions\u001b[0m\u001b[1;33m=\u001b[0m\u001b[0moptions\u001b[0m\u001b[1;33m)\u001b[0m\u001b[1;33m\u001b[0m\u001b[1;33m\u001b[0m\u001b[0m\n\u001b[0m",
                        "\u001b[1;32m~\\anaconda3\\envs\\envpytorch\\lib\\site-packages\\webdriver_manager\\chrome.py\u001b[0m in \u001b[0;36m__init__\u001b[1;34m(self, version, os_type, path, name, url, latest_release_url, chrome_type, log_level, print_first_line, cache_valid_range)\u001b[0m\n\u001b[0;32m     28\u001b[0m                                    \u001b[0murl\u001b[0m\u001b[1;33m=\u001b[0m\u001b[0murl\u001b[0m\u001b[1;33m,\u001b[0m\u001b[1;33m\u001b[0m\u001b[1;33m\u001b[0m\u001b[0m\n\u001b[0;32m     29\u001b[0m                                    \u001b[0mlatest_release_url\u001b[0m\u001b[1;33m=\u001b[0m\u001b[0mlatest_release_url\u001b[0m\u001b[1;33m,\u001b[0m\u001b[1;33m\u001b[0m\u001b[1;33m\u001b[0m\u001b[0m\n\u001b[1;32m---> 30\u001b[1;33m                                    chrome_type=chrome_type)\n\u001b[0m\u001b[0;32m     31\u001b[0m \u001b[1;33m\u001b[0m\u001b[0m\n\u001b[0;32m     32\u001b[0m     \u001b[1;32mdef\u001b[0m \u001b[0minstall\u001b[0m\u001b[1;33m(\u001b[0m\u001b[0mself\u001b[0m\u001b[1;33m)\u001b[0m\u001b[1;33m:\u001b[0m\u001b[1;33m\u001b[0m\u001b[1;33m\u001b[0m\u001b[0m\n",
                        "\u001b[1;32m~\\anaconda3\\envs\\envpytorch\\lib\\site-packages\\webdriver_manager\\driver.py\u001b[0m in \u001b[0;36m__init__\u001b[1;34m(self, name, version, os_type, url, latest_release_url, chrome_type)\u001b[0m\n\u001b[0;32m     55\u001b[0m                                            latest_release_url)\n\u001b[0;32m     56\u001b[0m         \u001b[0mself\u001b[0m\u001b[1;33m.\u001b[0m\u001b[0mchrome_type\u001b[0m \u001b[1;33m=\u001b[0m \u001b[0mchrome_type\u001b[0m\u001b[1;33m\u001b[0m\u001b[1;33m\u001b[0m\u001b[0m\n\u001b[1;32m---> 57\u001b[1;33m         \u001b[0mself\u001b[0m\u001b[1;33m.\u001b[0m\u001b[0mbrowser_version\u001b[0m \u001b[1;33m=\u001b[0m \u001b[0mchrome_version\u001b[0m\u001b[1;33m(\u001b[0m\u001b[0mchrome_type\u001b[0m\u001b[1;33m)\u001b[0m\u001b[1;33m\u001b[0m\u001b[1;33m\u001b[0m\u001b[0m\n\u001b[0m\u001b[0;32m     58\u001b[0m \u001b[1;33m\u001b[0m\u001b[0m\n\u001b[0;32m     59\u001b[0m     \u001b[1;32mdef\u001b[0m \u001b[0mget_os_type\u001b[0m\u001b[1;33m(\u001b[0m\u001b[0mself\u001b[0m\u001b[1;33m)\u001b[0m\u001b[1;33m:\u001b[0m\u001b[1;33m\u001b[0m\u001b[1;33m\u001b[0m\u001b[0m\n",
                        "\u001b[1;32m~\\anaconda3\\envs\\envpytorch\\lib\\site-packages\\webdriver_manager\\utils.py\u001b[0m in \u001b[0;36mchrome_version\u001b[1;34m(browser_type)\u001b[0m\n\u001b[0;32m    153\u001b[0m \u001b[1;33m\u001b[0m\u001b[0m\n\u001b[0;32m    154\u001b[0m     \u001b[1;32mif\u001b[0m \u001b[1;32mnot\u001b[0m \u001b[0mversion\u001b[0m\u001b[1;33m:\u001b[0m\u001b[1;33m\u001b[0m\u001b[1;33m\u001b[0m\u001b[0m\n\u001b[1;32m--> 155\u001b[1;33m         \u001b[1;32mraise\u001b[0m \u001b[0mValueError\u001b[0m\u001b[1;33m(\u001b[0m\u001b[1;34mf'Could not get version for Chrome with this command: {cmd}'\u001b[0m\u001b[1;33m)\u001b[0m\u001b[1;33m\u001b[0m\u001b[1;33m\u001b[0m\u001b[0m\n\u001b[0m\u001b[0;32m    156\u001b[0m     \u001b[0mcurrent_version\u001b[0m \u001b[1;33m=\u001b[0m \u001b[0mversion\u001b[0m\u001b[1;33m.\u001b[0m\u001b[0mgroup\u001b[0m\u001b[1;33m(\u001b[0m\u001b[1;36m0\u001b[0m\u001b[1;33m)\u001b[0m\u001b[1;33m\u001b[0m\u001b[1;33m\u001b[0m\u001b[0m\n\u001b[0;32m    157\u001b[0m     \u001b[1;32mreturn\u001b[0m \u001b[0mcurrent_version\u001b[0m\u001b[1;33m\u001b[0m\u001b[1;33m\u001b[0m\u001b[0m\n",
                        "\u001b[1;31mValueError\u001b[0m: Could not get version for Chrome with this command: reg query \"HKEY_CURRENT_USER\\Software\\Google\\Chrome\\BLBeacon\" /v version"
                    ]
                }
            ],
            "metadata": {}
        },
        {
            "cell_type": "markdown",
            "source": [
                "## Getting to the movie review page"
            ],
            "metadata": {}
        },
        {
            "cell_type": "code",
            "execution_count": 12,
            "source": [
                "search_term = 'Shershaah'\r\n",
                "base_url = \"https://www.imdb.com/\"\r\n",
                "search_url = f\"https://www.imdb.com/find?q={search_term}&s=tt&ttype=ft&ref_=fn_ft\"\r\n",
                "movie_id = None"
            ],
            "outputs": [],
            "metadata": {}
        },
        {
            "cell_type": "code",
            "execution_count": 13,
            "source": [
                "def get_soup(url):\r\n",
                "    r = requests.get(url)\r\n",
                "    soup = BeautifulSoup(r.text, 'lxml')\r\n",
                "    return soup"
            ],
            "outputs": [],
            "metadata": {}
        },
        {
            "cell_type": "code",
            "execution_count": 14,
            "source": [
                "search_result = get_soup(search_url).find_all('td', class_='result_text')\r\n",
                "for i in search_result:\r\n",
                "    if i.a.text == search_term:\r\n",
                "        movie_id = i.a['href'].split('/')[2]\r\n",
                "        break"
            ],
            "outputs": [],
            "metadata": {}
        },
        {
            "cell_type": "code",
            "execution_count": 15,
            "source": [
                "movie_id "
            ],
            "outputs": [
                {
                    "output_type": "execute_result",
                    "data": {
                        "text/plain": [
                            "'tt10295212'"
                        ]
                    },
                    "metadata": {},
                    "execution_count": 15
                }
            ],
            "metadata": {}
        },
        {
            "cell_type": "code",
            "execution_count": 16,
            "source": [
                "review_page_url = base_url + f\"title/{movie_id}/reviews?spoiler=hide&sort=helpfulnessScore&dir=desc&ratingFilter=0\"\r\n",
                "review_page = get_soup(review_page_url)"
            ],
            "outputs": [],
            "metadata": {}
        },
        {
            "cell_type": "markdown",
            "source": [
                "## TODO: Use selemnium to get around \"load more button\", everything needed is inside  `div class = 'lister'`"
            ],
            "metadata": {}
        },
        {
            "cell_type": "code",
            "execution_count": 30,
            "source": [
                "driver.get(\"google.com\")\r\n",
                "load_more_button = driver.find_elements_by_class_name(\"ipl-load-more__button\")\r\n",
                "load_more_button"
            ],
            "outputs": [
                {
                    "output_type": "error",
                    "ename": "WebDriverException",
                    "evalue": "Message: chrome not reachable\n  (Session info: chrome=92.0.4515.159)\n",
                    "traceback": [
                        "\u001b[1;31m---------------------------------------------------------------------------\u001b[0m",
                        "\u001b[1;31mWebDriverException\u001b[0m                        Traceback (most recent call last)",
                        "\u001b[1;32m<ipython-input-30-6be260fb62cc>\u001b[0m in \u001b[0;36m<module>\u001b[1;34m\u001b[0m\n\u001b[1;32m----> 1\u001b[1;33m \u001b[0mdriver\u001b[0m\u001b[1;33m.\u001b[0m\u001b[0mget\u001b[0m\u001b[1;33m(\u001b[0m\u001b[1;34m\"google.com\"\u001b[0m\u001b[1;33m)\u001b[0m\u001b[1;33m\u001b[0m\u001b[1;33m\u001b[0m\u001b[0m\n\u001b[0m\u001b[0;32m      2\u001b[0m \u001b[0mload_more_button\u001b[0m \u001b[1;33m=\u001b[0m \u001b[0mdriver\u001b[0m\u001b[1;33m.\u001b[0m\u001b[0mfind_elements_by_class_name\u001b[0m\u001b[1;33m(\u001b[0m\u001b[1;34m\"ipl-load-more__button\"\u001b[0m\u001b[1;33m)\u001b[0m\u001b[1;33m\u001b[0m\u001b[1;33m\u001b[0m\u001b[0m\n\u001b[0;32m      3\u001b[0m \u001b[0mload_more_button\u001b[0m\u001b[1;33m\u001b[0m\u001b[1;33m\u001b[0m\u001b[0m\n",
                        "\u001b[1;32m~\\anaconda3\\envs\\envpytorch\\lib\\site-packages\\selenium\\webdriver\\remote\\webdriver.py\u001b[0m in \u001b[0;36mget\u001b[1;34m(self, url)\u001b[0m\n\u001b[0;32m    331\u001b[0m         \u001b[0mLoads\u001b[0m \u001b[0ma\u001b[0m \u001b[0mweb\u001b[0m \u001b[0mpage\u001b[0m \u001b[1;32min\u001b[0m \u001b[0mthe\u001b[0m \u001b[0mcurrent\u001b[0m \u001b[0mbrowser\u001b[0m \u001b[0msession\u001b[0m\u001b[1;33m.\u001b[0m\u001b[1;33m\u001b[0m\u001b[1;33m\u001b[0m\u001b[0m\n\u001b[0;32m    332\u001b[0m         \"\"\"\n\u001b[1;32m--> 333\u001b[1;33m         \u001b[0mself\u001b[0m\u001b[1;33m.\u001b[0m\u001b[0mexecute\u001b[0m\u001b[1;33m(\u001b[0m\u001b[0mCommand\u001b[0m\u001b[1;33m.\u001b[0m\u001b[0mGET\u001b[0m\u001b[1;33m,\u001b[0m \u001b[1;33m{\u001b[0m\u001b[1;34m'url'\u001b[0m\u001b[1;33m:\u001b[0m \u001b[0murl\u001b[0m\u001b[1;33m}\u001b[0m\u001b[1;33m)\u001b[0m\u001b[1;33m\u001b[0m\u001b[1;33m\u001b[0m\u001b[0m\n\u001b[0m\u001b[0;32m    334\u001b[0m \u001b[1;33m\u001b[0m\u001b[0m\n\u001b[0;32m    335\u001b[0m     \u001b[1;33m@\u001b[0m\u001b[0mproperty\u001b[0m\u001b[1;33m\u001b[0m\u001b[1;33m\u001b[0m\u001b[0m\n",
                        "\u001b[1;32m~\\anaconda3\\envs\\envpytorch\\lib\\site-packages\\selenium\\webdriver\\remote\\webdriver.py\u001b[0m in \u001b[0;36mexecute\u001b[1;34m(self, driver_command, params)\u001b[0m\n\u001b[0;32m    319\u001b[0m         \u001b[0mresponse\u001b[0m \u001b[1;33m=\u001b[0m \u001b[0mself\u001b[0m\u001b[1;33m.\u001b[0m\u001b[0mcommand_executor\u001b[0m\u001b[1;33m.\u001b[0m\u001b[0mexecute\u001b[0m\u001b[1;33m(\u001b[0m\u001b[0mdriver_command\u001b[0m\u001b[1;33m,\u001b[0m \u001b[0mparams\u001b[0m\u001b[1;33m)\u001b[0m\u001b[1;33m\u001b[0m\u001b[1;33m\u001b[0m\u001b[0m\n\u001b[0;32m    320\u001b[0m         \u001b[1;32mif\u001b[0m \u001b[0mresponse\u001b[0m\u001b[1;33m:\u001b[0m\u001b[1;33m\u001b[0m\u001b[1;33m\u001b[0m\u001b[0m\n\u001b[1;32m--> 321\u001b[1;33m             \u001b[0mself\u001b[0m\u001b[1;33m.\u001b[0m\u001b[0merror_handler\u001b[0m\u001b[1;33m.\u001b[0m\u001b[0mcheck_response\u001b[0m\u001b[1;33m(\u001b[0m\u001b[0mresponse\u001b[0m\u001b[1;33m)\u001b[0m\u001b[1;33m\u001b[0m\u001b[1;33m\u001b[0m\u001b[0m\n\u001b[0m\u001b[0;32m    322\u001b[0m             response['value'] = self._unwrap_value(\n\u001b[0;32m    323\u001b[0m                 response.get('value', None))\n",
                        "\u001b[1;32m~\\anaconda3\\envs\\envpytorch\\lib\\site-packages\\selenium\\webdriver\\remote\\errorhandler.py\u001b[0m in \u001b[0;36mcheck_response\u001b[1;34m(self, response)\u001b[0m\n\u001b[0;32m    240\u001b[0m                 \u001b[0malert_text\u001b[0m \u001b[1;33m=\u001b[0m \u001b[0mvalue\u001b[0m\u001b[1;33m[\u001b[0m\u001b[1;34m'alert'\u001b[0m\u001b[1;33m]\u001b[0m\u001b[1;33m.\u001b[0m\u001b[0mget\u001b[0m\u001b[1;33m(\u001b[0m\u001b[1;34m'text'\u001b[0m\u001b[1;33m)\u001b[0m\u001b[1;33m\u001b[0m\u001b[1;33m\u001b[0m\u001b[0m\n\u001b[0;32m    241\u001b[0m             \u001b[1;32mraise\u001b[0m \u001b[0mexception_class\u001b[0m\u001b[1;33m(\u001b[0m\u001b[0mmessage\u001b[0m\u001b[1;33m,\u001b[0m \u001b[0mscreen\u001b[0m\u001b[1;33m,\u001b[0m \u001b[0mstacktrace\u001b[0m\u001b[1;33m,\u001b[0m \u001b[0malert_text\u001b[0m\u001b[1;33m)\u001b[0m\u001b[1;33m\u001b[0m\u001b[1;33m\u001b[0m\u001b[0m\n\u001b[1;32m--> 242\u001b[1;33m         \u001b[1;32mraise\u001b[0m \u001b[0mexception_class\u001b[0m\u001b[1;33m(\u001b[0m\u001b[0mmessage\u001b[0m\u001b[1;33m,\u001b[0m \u001b[0mscreen\u001b[0m\u001b[1;33m,\u001b[0m \u001b[0mstacktrace\u001b[0m\u001b[1;33m)\u001b[0m\u001b[1;33m\u001b[0m\u001b[1;33m\u001b[0m\u001b[0m\n\u001b[0m\u001b[0;32m    243\u001b[0m \u001b[1;33m\u001b[0m\u001b[0m\n\u001b[0;32m    244\u001b[0m     \u001b[1;32mdef\u001b[0m \u001b[0m_value_or_default\u001b[0m\u001b[1;33m(\u001b[0m\u001b[0mself\u001b[0m\u001b[1;33m,\u001b[0m \u001b[0mobj\u001b[0m\u001b[1;33m,\u001b[0m \u001b[0mkey\u001b[0m\u001b[1;33m,\u001b[0m \u001b[0mdefault\u001b[0m\u001b[1;33m)\u001b[0m\u001b[1;33m:\u001b[0m\u001b[1;33m\u001b[0m\u001b[1;33m\u001b[0m\u001b[0m\n",
                        "\u001b[1;31mWebDriverException\u001b[0m: Message: chrome not reachable\n  (Session info: chrome=92.0.4515.159)\n"
                    ]
                }
            ],
            "metadata": {}
        },
        {
            "cell_type": "code",
            "execution_count": 47,
            "source": [
                "from bs4 import BeautifulSoup\r\n",
                "import requests\r\n",
                "from selenium import webdriver\r\n",
                "\r\n",
                "\r\n",
                "\r\n",
                "driver_path = \"../webdriver/chromedriver.exe\"\r\n",
                "brave_path = \"C:/Program Files/BraveSoftware/Brave-Browser/Application/brave.exe\"\r\n",
                "\r\n",
                "\r\n",
                "option = webdriver.ChromeOptions()\r\n",
                "option.binary_location = brave_path\r\n",
                "option.add_argument(\"--incognito\") \r\n",
                "# option.add_argument(\"--headless\") OPTIONAL\r\n",
                "\r\n",
                "# Create new Instance of Chrome\r\n",
                "driver = webdriver.Chrome(executable_path=driver_path, options=option)\r\n",
                "\r\n",
                "\r\n",
                "search_term = 'Shershaah'\r\n",
                "base_url = \"https://www.imdb.com/\"\r\n",
                "search_url = f\"https://www.imdb.com/find?q={search_term}&s=tt&ttype=ft&ref_=fn_ft\"\r\n",
                "movie_id = None\r\n",
                "\r\n",
                "def get_soup(url):\r\n",
                "    r = requests.get(url)\r\n",
                "    soup = BeautifulSoup(r.text, 'lxml')\r\n",
                "    return soup\r\n",
                "\r\n",
                "def get_movie_id(search_url):\r\n",
                "    search_result = get_soup(search_url).find_all('td', class_='result_text')\r\n",
                "    for i in search_result:\r\n",
                "        if i.a.text == search_term:\r\n",
                "            movie_id = i.a['href'].split('/')[2]\r\n",
                "            return movie_id\r\n",
                "\r\n",
                "movie_id = get_movie_id(search_url)\r\n",
                "review_page_url = base_url + f\"title/{movie_id}/reviews?spoiler=hide&sort=helpfulnessScore&dir=desc&ratingFilter=0\"\r\n",
                "review_page = get_soup(review_page_url)\r\n",
                "\r\n",
                "driver.get(review_page_url)\r\n",
                "try:\r\n",
                "    driver.find_elements_by_class_name(\"ipl-load-more__butto\")[0].click()\r\n",
                "except IndexError:\r\n",
                "    print(driver.page_source[:100])\r\n",
                "driver.close()"
            ],
            "outputs": [
                {
                    "output_type": "error",
                    "ename": "AttributeError",
                    "evalue": "'list' object has no attribute 'click'",
                    "traceback": [
                        "\u001b[1;31m---------------------------------------------------------------------------\u001b[0m",
                        "\u001b[1;31mAttributeError\u001b[0m                            Traceback (most recent call last)",
                        "\u001b[1;32m<ipython-input-47-be78daf527d9>\u001b[0m in \u001b[0;36m<module>\u001b[1;34m\u001b[0m\n\u001b[0;32m     41\u001b[0m \u001b[0mdriver\u001b[0m\u001b[1;33m.\u001b[0m\u001b[0mget\u001b[0m\u001b[1;33m(\u001b[0m\u001b[0mreview_page_url\u001b[0m\u001b[1;33m)\u001b[0m\u001b[1;33m\u001b[0m\u001b[1;33m\u001b[0m\u001b[0m\n\u001b[0;32m     42\u001b[0m \u001b[1;32mtry\u001b[0m\u001b[1;33m:\u001b[0m\u001b[1;33m\u001b[0m\u001b[1;33m\u001b[0m\u001b[0m\n\u001b[1;32m---> 43\u001b[1;33m     \u001b[0mdriver\u001b[0m\u001b[1;33m.\u001b[0m\u001b[0mfind_elements_by_class_name\u001b[0m\u001b[1;33m(\u001b[0m\u001b[1;34m\"ipl-load-more__butto\"\u001b[0m\u001b[1;33m)\u001b[0m\u001b[1;33m.\u001b[0m\u001b[0mclick\u001b[0m\u001b[1;33m(\u001b[0m\u001b[1;33m)\u001b[0m\u001b[1;33m\u001b[0m\u001b[1;33m\u001b[0m\u001b[0m\n\u001b[0m\u001b[0;32m     44\u001b[0m \u001b[1;32mexcept\u001b[0m \u001b[0mIndexError\u001b[0m\u001b[1;33m:\u001b[0m\u001b[1;33m\u001b[0m\u001b[1;33m\u001b[0m\u001b[0m\n\u001b[0;32m     45\u001b[0m     \u001b[0mprint\u001b[0m\u001b[1;33m(\u001b[0m\u001b[0mdriver\u001b[0m\u001b[1;33m.\u001b[0m\u001b[0mpage_source\u001b[0m\u001b[1;33m[\u001b[0m\u001b[1;33m:\u001b[0m\u001b[1;36m100\u001b[0m\u001b[1;33m]\u001b[0m\u001b[1;33m)\u001b[0m\u001b[1;33m\u001b[0m\u001b[1;33m\u001b[0m\u001b[0m\n",
                        "\u001b[1;31mAttributeError\u001b[0m: 'list' object has no attribute 'click'"
                    ]
                }
            ],
            "metadata": {}
        },
        {
            "cell_type": "code",
            "execution_count": 46,
            "source": [
                "s = [1,2,3]\r\n",
                "s[10]"
            ],
            "outputs": [
                {
                    "output_type": "error",
                    "ename": "IndexError",
                    "evalue": "list index out of range",
                    "traceback": [
                        "\u001b[1;31m---------------------------------------------------------------------------\u001b[0m",
                        "\u001b[1;31mIndexError\u001b[0m                                Traceback (most recent call last)",
                        "\u001b[1;32m<ipython-input-46-8f8290ec651a>\u001b[0m in \u001b[0;36m<module>\u001b[1;34m\u001b[0m\n\u001b[0;32m      1\u001b[0m \u001b[0ms\u001b[0m \u001b[1;33m=\u001b[0m \u001b[1;33m[\u001b[0m\u001b[1;36m1\u001b[0m\u001b[1;33m,\u001b[0m\u001b[1;36m2\u001b[0m\u001b[1;33m,\u001b[0m\u001b[1;36m3\u001b[0m\u001b[1;33m]\u001b[0m\u001b[1;33m\u001b[0m\u001b[1;33m\u001b[0m\u001b[0m\n\u001b[1;32m----> 2\u001b[1;33m \u001b[0ms\u001b[0m\u001b[1;33m[\u001b[0m\u001b[1;36m10\u001b[0m\u001b[1;33m]\u001b[0m\u001b[1;33m\u001b[0m\u001b[1;33m\u001b[0m\u001b[0m\n\u001b[0m",
                        "\u001b[1;31mIndexError\u001b[0m: list index out of range"
                    ]
                }
            ],
            "metadata": {}
        },
        {
            "cell_type": "markdown",
            "source": [
                "# Extracting reviews "
            ],
            "metadata": {}
        },
        {
            "cell_type": "code",
            "execution_count": null,
            "source": [
                "reviews = review_page.find_all('div', class_ = 'text show-more__control')"
            ],
            "outputs": [],
            "metadata": {}
        },
        {
            "cell_type": "code",
            "execution_count": 33,
            "source": [
                "len(reviews)"
            ],
            "outputs": [
                {
                    "output_type": "execute_result",
                    "data": {
                        "text/plain": [
                            "25"
                        ]
                    },
                    "metadata": {},
                    "execution_count": 33
                }
            ],
            "metadata": {}
        },
        {
            "cell_type": "code",
            "execution_count": null,
            "source": [],
            "outputs": [],
            "metadata": {}
        },
        {
            "cell_type": "code",
            "execution_count": null,
            "source": [],
            "outputs": [],
            "metadata": {}
        },
        {
            "cell_type": "code",
            "execution_count": null,
            "source": [],
            "outputs": [],
            "metadata": {}
        },
        {
            "cell_type": "code",
            "execution_count": null,
            "source": [],
            "outputs": [],
            "metadata": {}
        },
        {
            "cell_type": "code",
            "execution_count": 73,
            "source": [
                "review_list = [review.text.replace('\\n', ' ') for review in reviews]\r\n",
                "review_list[:5]"
            ],
            "outputs": [
                {
                    "output_type": "execute_result",
                    "data": {
                        "text/plain": [
                            "['So realistic.. Acting is superb.... Music ... VFX .. Action... Romance.... Perfect..',\n",
                            " \"Sidharth Malhotra and Kiara Advani nailed it with their performance. This movie truly portrays the jolly nature of Sir Vikram Batra . Those have given 1 star to this movie are the ones who gave 10 stars to movie like radhe , Tubelight etc LOL . Dont listen to them and just watch it , you will not regret .Acting of Sidharth is way way better than other bollywood actors . Just loved his performance in this movie. He couldn't have done better . Same goes to Kiara Advani , simply amazing .Kudos to the crew and actors who worked in this film and gave justice to the personality of Sir Vikram Batra JUST WATCH IT WITHOUT ANY DOUBT.\",\n",
                            " \"No debate, no concerns, no Reviews, just pride.Sidarth Malhotra's portrayal of Capt. Vikram Batra is not just his career best performance, it's also a perfect tribute to one of India's bravest sons. Hands down the best film of Bollywood this year so far.Durge Mata ki Jai.\",\n",
                            " 'Every Indian should watch this movie.Independence came at the cost of great soldiers like Captain Vikram Batra.Jai Hind.Proud Of Indian Army.Proud To Be Indian.',\n",
                            " \"This film is a must watch and the people calling it bad cause of the love story in it probably don't understand that it is a biopic. Must watch and superb acting. Can't wait for the Sam bahadur movie after this!! Finally some original content.\"]"
                        ]
                    },
                    "metadata": {},
                    "execution_count": 73
                }
            ],
            "metadata": {}
        },
        {
            "cell_type": "code",
            "execution_count": 1,
            "source": [
                "import requests\r\n",
                "from bs4 import BeautifulSoup\r\n"
            ],
            "outputs": [],
            "metadata": {}
        },
        {
            "cell_type": "code",
            "execution_count": 2,
            "source": [
                "base_url = \"https://www.imdb.com/\"\r\n",
                "url = \"https://www.imdb.com/title/tt10295212/reviews?spoiler=hide&sort=helpfulnessScore&dir=desc&ratingFilter=0\"\r\n",
                "res = requests.get(url)\r\n",
                "soup = BeautifulSoup(res.text,\"lxml\")"
            ],
            "outputs": [],
            "metadata": {}
        },
        {
            "cell_type": "code",
            "execution_count": 3,
            "source": [
                "soup.find('div', class_=\"load-more-data\")['data-ajaxurl']"
            ],
            "outputs": [
                {
                    "output_type": "execute_result",
                    "data": {
                        "text/plain": [
                            "'/title/tt10295212/reviews/_ajax?sort=helpfulnessScore&dir=desc&spoiler=hide&ratingFilter=0'"
                        ]
                    },
                    "metadata": {},
                    "execution_count": 3
                }
            ],
            "metadata": {}
        },
        {
            "cell_type": "code",
            "execution_count": 4,
            "source": [
                "soup.find('div', class_=\"load-more-data\")['data-key']"
            ],
            "outputs": [
                {
                    "output_type": "execute_result",
                    "data": {
                        "text/plain": [
                            "'g4wp7cjjqq3dk3yl7kvh3obzrhq4ybbhzfmxvlnomwklyczuf43o6ss4oiyflpzmdb4k5bnyoxk5u3wxahhmvdm6unyqbga'"
                        ]
                    },
                    "metadata": {},
                    "execution_count": 4
                }
            ],
            "metadata": {}
        },
        {
            "cell_type": "code",
            "execution_count": 5,
            "source": [
                "ajax_url = soup.find('div', class_=\"load-more-data\")['data-ajaxurl']\r\n",
                "pagination_key = soup.find('div', class_=\"load-more-data\")['data-key']"
            ],
            "outputs": [],
            "metadata": {}
        },
        {
            "cell_type": "code",
            "execution_count": 6,
            "source": [
                "main_content = base_url + ajax_url + f\"&ref_=undefined&paginationKey={pagination_key}\"\r\n",
                "main_content"
            ],
            "outputs": [
                {
                    "output_type": "execute_result",
                    "data": {
                        "text/plain": [
                            "'https://www.imdb.com//title/tt10295212/reviews/_ajax?sort=helpfulnessScore&dir=desc&spoiler=hide&ratingFilter=0&ref_=undefined&paginationKey=g4wp7cjjqq3dk3yl7kvh3obzrhq4ybbhzfmxvlnomwklyczuf43o6ss4oiyflpzmdb4k5bnyoxk5u3wxahhmvdm6unyqbga'"
                        ]
                    },
                    "metadata": {},
                    "execution_count": 6
                }
            ],
            "metadata": {}
        },
        {
            "cell_type": "code",
            "execution_count": 33,
            "source": [
                "review_url = 'https://www.imdb.com//title/tt10295212/reviews/_ajax'\r\n",
                "payload = {\r\n",
                "    'sort': 'helpfulnessScore',\r\n",
                "    'dir': 'desc',\r\n",
                "    'spoiler': 'hide',\r\n",
                "    'ratingFilter': '0',\r\n",
                "    'ref_': 'undefined',\r\n",
                "    'paginationKey': pagination_key\r\n",
                "}\r\n",
                "page2 = requests.get(review_url, params=payload)\r\n",
                "page2.status_code\r\n",
                "page2_soup = BeautifulSoup(page2.text)\r\n",
                "page2_soup.find_all('div', class_='text show-more__control')[:5]"
            ],
            "outputs": [
                {
                    "output_type": "execute_result",
                    "data": {
                        "text/plain": [
                            "[<div class=\"text show-more__control\">First of all, this film is very good as a biopic. Creator definitely know what he has to show or What not.<br/><br/>My expectation from this film is very low. I thought this is going to be old drama biopic film which bores the audience...<br/><br/>But it's not..\n",
                            " Romance is also very good point.<br/><br/>And yeah the main thing is Cast. Cast done the excellent work. The way siddhartha play the role of vikram bhatra is awesome. You should watch this film. This film beautifully shows the life of Capt. Vikram Batra.</div>,\n",
                            " <div class=\"text show-more__control\">Superb acting, superb action scenes and vfx is also amazing.</div>,\n",
                            " <div class=\"text show-more__control\">Siddarth best performance till date....and ARMY IS ABOVE ALL.... JAY HIND....salute INDIAN ARMY...</div>,\n",
                            " <div class=\"text show-more__control\">Excellent direction Must watch movie after such a long time.</div>,\n",
                            " <div class=\"text show-more__control\">A very mediocre movie with a dull love story, crappy editing and a irrational screenplay. Complete respect to the real world Capt. Vikram Batra, but this movie doesn't do justice to his heriocs.<br/><br/>Indian audience may have a tendency to rate Patriotic movies higher that usual, otherwise this high rating has no other explanation.</div>]"
                        ]
                    },
                    "metadata": {},
                    "execution_count": 33
                }
            ],
            "metadata": {}
        },
        {
            "cell_type": "code",
            "execution_count": 41,
            "source": [
                "page2.headers"
            ],
            "outputs": [
                {
                    "output_type": "execute_result",
                    "data": {
                        "text/plain": [
                            "{'Content-Type': 'text/html;charset=UTF-8', 'Transfer-Encoding': 'chunked', 'Connection': 'keep-alive', 'Server': 'Server', 'Date': 'Wed, 08 Sep 2021 16:52:50 GMT', 'x-amz-rid': 'C55RJ7MSEFC4G6MKBX88', 'Set-Cookie': 'uu=eyJpZCI6InV1NTBjNDAxNjJmMjljNGM3ODk4MmIiLCJwcmVmZXJlbmNlcyI6eyJmaW5kX2luY2x1ZGVfYWR1bHQiOmZhbHNlfX0=; Domain=.imdb.com; Expires=Mon, 26-Sep-2089 20:06:57 GMT; Path=/; Secure, session-id=000-0000000-0000000; Domain=.imdb.com; Expires=Mon, 26-Sep-2089 20:06:57 GMT; Path=/; Secure, session-id-time=2261839970; Domain=.imdb.com; Expires=Mon, 26-Sep-2089 20:06:57 GMT; Path=/; Secure', 'X-Frame-Options': 'SAMEORIGIN', 'Content-Security-Policy': \"frame-ancestors 'self' imdb.com *.imdb.com *.media-imdb.com withoutabox.com *.withoutabox.com amazon.com *.amazon.com amazon.co.uk *.amazon.co.uk amazon.de *.amazon.de translate.google.com images.google.com www.google.com www.google.co.uk search.aol.com bing.com www.bing.com\", 'Content-Language': 'en-US', 'Strict-Transport-Security': 'max-age=47474747; includeSubDomains; preload', 'Vary': 'Content-Type,Accept-Encoding,X-Amzn-CDN-Cache,X-Amzn-AX-Treatment,User-Agent', 'Permissions-Policy': 'interest-cohort=()', 'X-Cache': 'Miss from cloudfront', 'Via': '1.1 380ce63197f0d5db2cf7b975ac87c5ef.cloudfront.net (CloudFront)', 'X-Amz-Cf-Pop': 'CCU50-C1', 'X-Amz-Cf-Id': 'rsisCxpjPUtTbRFtPd-ekPaj7DbrieHf4tiwBNs_ywIUrW0BYIislg=='}"
                        ]
                    },
                    "metadata": {},
                    "execution_count": 41
                }
            ],
            "metadata": {}
        },
        {
            "cell_type": "code",
            "execution_count": 35,
            "source": [
                "page2.status_code"
            ],
            "outputs": [
                {
                    "output_type": "execute_result",
                    "data": {
                        "text/plain": [
                            "200"
                        ]
                    },
                    "metadata": {},
                    "execution_count": 35
                }
            ],
            "metadata": {}
        },
        {
            "cell_type": "code",
            "execution_count": 39,
            "source": [
                "page2.url == main_content   "
            ],
            "outputs": [
                {
                    "output_type": "execute_result",
                    "data": {
                        "text/plain": [
                            "True"
                        ]
                    },
                    "metadata": {},
                    "execution_count": 39
                }
            ],
            "metadata": {}
        },
        {
            "cell_type": "code",
            "execution_count": 32,
            "source": [
                "main_content"
            ],
            "outputs": [
                {
                    "output_type": "execute_result",
                    "data": {
                        "text/plain": [
                            "'https://www.imdb.com//title/tt10295212/reviews/_ajax?sort=helpfulnessScore&dir=desc&spoiler=hide&ratingFilter=0&ref_=undefined&paginationKey=g4wp7cjjqq3dk3yl7kvh3obzrhq4ybbhzfmxvlnomwklyczuf43o6ss4oiyflpzmdb4k5bnyoxk5u3wxahhmvdm6unyqbga'"
                        ]
                    },
                    "metadata": {},
                    "execution_count": 32
                }
            ],
            "metadata": {}
        },
        {
            "cell_type": "markdown",
            "source": [],
            "metadata": {}
        },
        {
            "cell_type": "code",
            "execution_count": 37,
            "source": [
                "##extracting the link leading to the page containing everything available here\r\n",
                "response = requests.get(main_content)\r\n",
                "broth = BeautifulSoup(response.text,\"lxml\")\r\n"
            ],
            "outputs": [],
            "metadata": {}
        },
        {
            "cell_type": "code",
            "execution_count": 38,
            "source": [
                "broth.find_all('div', class_=\"text show-more__control\")[:5]"
            ],
            "outputs": [
                {
                    "output_type": "execute_result",
                    "data": {
                        "text/plain": [
                            "[<div class=\"text show-more__control\">First of all, this film is very good as a biopic. Creator definitely know what he has to show or What not.<br/><br/>My expectation from this film is very low. I thought this is going to be old drama biopic film which bores the audience...<br/><br/>But it's not..\n",
                            " Romance is also very good point.<br/><br/>And yeah the main thing is Cast. Cast done the excellent work. The way siddhartha play the role of vikram bhatra is awesome. You should watch this film. This film beautifully shows the life of Capt. Vikram Batra.</div>,\n",
                            " <div class=\"text show-more__control\">Superb acting, superb action scenes and vfx is also amazing.</div>,\n",
                            " <div class=\"text show-more__control\">Siddarth best performance till date....and ARMY IS ABOVE ALL.... JAY HIND....salute INDIAN ARMY...</div>,\n",
                            " <div class=\"text show-more__control\">Excellent direction Must watch movie after such a long time.</div>,\n",
                            " <div class=\"text show-more__control\">A very mediocre movie with a dull love story, crappy editing and a irrational screenplay. Complete respect to the real world Capt. Vikram Batra, but this movie doesn't do justice to his heriocs.<br/><br/>Indian audience may have a tendency to rate Patriotic movies higher that usual, otherwise this high rating has no other explanation.</div>]"
                        ]
                    },
                    "metadata": {},
                    "execution_count": 38
                }
            ],
            "metadata": {}
        },
        {
            "cell_type": "code",
            "execution_count": 100,
            "source": [
                "soup.append(broth)"
            ],
            "outputs": [],
            "metadata": {}
        },
        {
            "cell_type": "code",
            "execution_count": 104,
            "source": [
                "len(soup.find_all('div', class_=\"text show-more__control\"))"
            ],
            "outputs": [
                {
                    "output_type": "execute_result",
                    "data": {
                        "text/plain": [
                            "50"
                        ]
                    },
                    "metadata": {},
                    "execution_count": 104
                }
            ],
            "metadata": {}
        },
        {
            "cell_type": "code",
            "execution_count": 105,
            "source": [
                "for item in soup.find_all('div', class_=\"text show-more__control\"):\r\n",
                "    # title = item.select(\".title\")[0].text\r\n",
                "    # review = item.select(\".text\")[0].text\r\n",
                "    # print(\"Title: {}\\n\\nReview: {}\\n\\n\".format(title,review))\r\n",
                "    print(item.text, end=\"\\n\\n\")\r\n"
            ],
            "outputs": [
                {
                    "output_type": "stream",
                    "name": "stdout",
                    "text": [
                        "So realistic..\n",
                        "Acting is superb....\n",
                        "Music ...\n",
                        "VFX ..\n",
                        "Action...\n",
                        "Romance....\n",
                        "Perfect..\n",
                        "\n",
                        "Sidharth Malhotra and Kiara Advani nailed it with their performance. This movie truly portrays the jolly nature of Sir Vikram Batra . Those have given 1 star to this movie are the ones who gave 10 stars to movie like radhe , Tubelight etc LOL . Dont listen to them and just watch it , you will not regret .Acting of Sidharth is way way better than other bollywood actors . Just loved his performance in this movie. He couldn't have done better . Same goes to Kiara Advani , simply amazing .Kudos to the crew and actors who worked in this film and gave justice to the personality of Sir Vikram Batra\n",
                        "JUST WATCH IT WITHOUT ANY DOUBT.\n",
                        "\n",
                        "No debate, no concerns, no Reviews, just pride.Sidarth Malhotra's portrayal of Capt. Vikram Batra is not just his career best performance, it's also a perfect tribute to one of India's bravest sons. Hands down the best film of Bollywood this year so far.Durge Mata ki Jai.\n",
                        "\n",
                        "Every Indian should watch this movie.Independence came at the cost of great soldiers like Captain Vikram Batra.Jai Hind.Proud Of Indian Army.Proud To Be Indian.\n",
                        "\n",
                        "This film is a must watch and the people calling it bad cause of the love story in it probably don't understand that it is a biopic. Must watch and superb acting. Can't wait for the Sam bahadur movie after this!! Finally some original content.\n",
                        "\n",
                        "Biography is super.movie is awesome 😎 must watch masterpiece movie.\n",
                        "\n",
                        "One of the best war film ever made in bollywood.Best performance of Siddharth Malhotra till date.So realistic.A family pack film.\n",
                        "\n",
                        "What a great biopic. Sid nailed the character. Kiaras performance was also good. Supporting cast performance was also good. Overall its a great patriotic movie to watch.\n",
                        "\n",
                        "What a movie . Fab sid acting\n",
                        "Worth wait.Must watxh.\n",
                        "\n",
                        "This is new Bollywood..\n",
                        "And the movie is speechless Mostly Story of Real life hero Vikram Sir's is Present in Right way of Acting,story and As well as Direction...\n",
                        "\n",
                        "It's a master piece.great biopic on Vikram Batra& Sidharth Malhotra is just amazing to watch . This is game changer script for Sidharth Malhotra.\n",
                        "\n",
                        "Not expected from KJ but he did one of the best army movie watched...Jai Indian army agar short me bolu toh dekh hi lo.\n",
                        "\n",
                        "I don't know why people want just a clean patriotic movie with no romance! Dimple Cheema was an integral part of Vikram Batra's life and her part was inevitable to be shown. Without Dimple there was no Vikram Batra and vice versa. High time people acknowledge this fact.\n",
                        "\n",
                        "A masterpiece that you can't missed, I literally loved the film. The way all things are shown and presented is just awesome!!!! And Sidharth wow man watching you as feel like i watching real real captain Vikram Batra you really nailed it, you are the soul of the film.A flim dedicated to Vikram Batra and armed forces of India! That exceptionally showing the life of all soldiers and what they go through.It's really so impactful.And climax will let you take into tears for sure.\n",
                        "\n",
                        "I started to watch this movie without any expectations and with so much fear that it may be ruined by Dharma production like Gunjan saxena, but i was totally wrong. IT IS EXTREMELY WELL MADE MOVIE WITH SO GREAT ACTING AND PRODUCTION VALUE.Siddharth malhotra has given his career best and you will be proud of Indian army after watching it. The climax was too emotional and proudly filmed. This is one of the best tribute to our real hero Sir Captain Vikram Batra.A Must Watch.\n",
                        "\n",
                        "Well written & aligned with facts. Siddharth does justice to the role, superbly executed with a perfect pace.\n",
                        "\n",
                        "When ever there is a war, natural calamity or a terrorist attack, the first people to come out and protect is Indian Army, who selflessly support us with their act of bravery. With never-ending tension going between India and Pakistan, so many sacrifices are being made by our Indian soldiers whose duty is to save the citizen from the scum of the Earth. To honor the soldiers who have laid down their lives to serve the country, there are few movies being made to tell the stories of gallantry. One such movie is on the Vikram Batra biopic drama, Shershaah, which stars Sidharth Malhotra and Kiara Advani.Shershaah chronicles the life and story of the brave soldiers Vikram Batra (played by Sidharth Malhotra) who led a very difficult operation in Kargil War against Pakistan and even managed to pull down the enemy soldiers in hand combat, ensuring a solid victory for our motherland.Directed by Vishnu Vardhan, Shershaah is one such film which will keep you engaged right from the beginning till the electrifying climax. The powerful true story of Vikram Batra along with other soldiers who have sacrificed and struggled to ensure that safety of Indian citizen is their top most priority, The makers have done a fabulous job in portraying the stress, blood and sweat displayed by our honorable soldiers. Couple of scenes did caught my attention - Pakistani missiles hitting the Indian base in a surprise attack, the action scene at the police check point and last but not the least, the final showdown - which is the climax scene showing the ultimate sacrifice by Vikram Batra when he exposes himself to the enemy fire trying to drag the injured soldier to safety, and in the process was shot. We get to see the real heroes only through some newspaper articles or social media who fought for their country, sacrificed their family and could not even return back to their motherland. Thanks to films like Shershaah speaks the true events of making of a soldier and the hardship and struggle these war machines go through.The initial reels had romantic track showing how Vikram Batra meets his fiancee Dimple hampers the momentum of the biopic drama, though the chemistry between Sidharth Malhotra and Kiara Advani is sparkling. Also, it is high time, Bollywood can start making biopics without songs and melodrama which sometimes play the spoilsports. Nevertheless, writing by Sandeep Shrivastava is brilliant which should be lauded. Technically, Shershaah boast off brilliant cinematography capturing the beautiful locales of Kashmir and Ladakh. Art direction is mind-blowing while background score creates more tensionTalking about performance, Sidharth Malhotra essays the role of Vikram Batra with T. The actor successfully shows diverse expressions of Vikram Batra right from the beginning when he joins the Indian Army as a rookie to the gallant soldier who fights for his country till his last breath. Shershaah might be a turning point in Sidharth Malhotra's career who comes up with a brave performance. In the supporting role, Kiara Advani, Shiv Pandit and Nikitin Dheer have acted their part with equal justice.So overall, Shershaah is a spellbinding tale of a brave soldier which should be lauded and appreciated for its genuine attempt. Very good 3.5/5.\n",
                        "\n",
                        "The valor of Captain Vikram Batra is brilliantly portrayed by Siddharth Malhotra.\n",
                        "\n",
                        "Amazing Movie. Every producer should make movies on soldiers.\n",
                        "\n",
                        "The Kargil War, 1999 - the toughest mountain warfare ever. Fought at a dizzying altitude of 17,000 feet, this historic war had a lot at stake. The Pakistani troops had infiltrated into the Indian side of the Line of Control (LoC), disguised as Kashmiri militants. The skirmishes quickly escalated into a full-blown war that also chalked the journey of a soldier from Lieutenant to Captain for his absolute dare-devilry and patriotic spirit to unfurl the tricolour at the highest point of conflict. Even if that meant laying down his own life for the cause.But before we get there, director Vishnu Varadhan and his writer Sandeep Srivastava take it slow. So we are taken right back to a childhood sequence of Captain Vikram Batra (Sidharth Malhotra) and shown his growing up years, finding the love of his life Dimple Cheema (Kiara Advani), before he is finally posted at the 13 JAK Rifles as a Lieutenant. While this build-up depicts the character's journey, it doesn't do so very sharply to merit so much screentime. In fact, most of the times, Kiara Advani's track and the romantic songs featuring her, feel like a distraction from the heavy-duty subject at hand. This also impacts the pace of the film that suffers from a slow first half.Of course, director Vishnu Varadhan had a mammoth task of doing justice to the copious amounts of data and milestones from the Kargil war, but the bulk of it is dealt with, in the second half. Sidharth Malhotra shines in the war scenes and his performance evolves through the film. His earnest efforts to recreate the aura of his character's larger-than-life persona shows on screen and this is one of his better performances. Kiara Advani looks her part as a resolute Sardarni, who loves her man with all her heart. But she doesn't have much scope to perform.Shiv Panditt is very aptly cast as Captain Sanjeev Jamwal, who is tough on the outside, but emotional from within. Nikitin Dheer is impressive as the cheerful Major Ajay Singh Jasrotia and so is Shataf Figar as the straight talking Col. Yogesh Kumar Joshi. Together, these men make for an able team that you will root for, at all times. Among the many other character actors, there are a few stereotypes and clichés too, especially on the Pakistani side.The film's overall tone is obviously high on patriotism. Many combat scenes don't reflect the large canvas that the film is set up on, perhaps more deserving of a big screen experience. Yet, as an industry, Bollywood has seldom churned out epic war films that have been critically and commercially acclaimed. By those standards, 'Shershaah' ranks high than most of the recent war dramas and tells an inspiring story that needs to be told.The source material of this film is so strong that it is bound to grip you once the men in uniform take it upon themselves to drive out the enemy and reclaim our land. 'Shershaah's biggest victory is its effort to recreate one of the most important chapters of our recent history with characters, who lead the way to a rousing climax.\n",
                        "\n",
                        "Movie is really superb it makes you cry . So realistically presented and made , Vikram Batra role has been amazingly acted by sid it feels that he has put heart to character in all terms.\n",
                        "\n",
                        "Already watched it twice. Going to watch it again and again in the coming time. Kudos to Siddhartha Malhotra and Kiara Advani for their wonderful acting. A true tribute of our real time hero Late Capt. Vikram Batra (PVC).\n",
                        "\n",
                        "Just watch it , just watch it . Your will get many more than you expected.\n",
                        "\n",
                        "Whatta a movie it was marvelous. Superbb work done by sid and kiara and the other cast crew.\n",
                        "\n",
                        "First of all, this film is very good as a biopic. Creator definitely know what he has to show or What not.My expectation from this film is very low. I thought this is going to be old drama biopic film which bores the audience...But it's not..\n",
                        "Romance is also very good point.And yeah the main thing is Cast. Cast done the excellent work. The way siddhartha play the role of vikram bhatra is awesome. You should watch this film. This film beautifully shows the life of Capt. Vikram Batra.\n",
                        "\n",
                        "Superb acting, superb action scenes and vfx is also amazing.\n",
                        "\n",
                        "Siddarth best performance till date....and ARMY IS ABOVE ALL.... JAY HIND....salute INDIAN ARMY...\n",
                        "\n",
                        "It's a good film, Character development is well enough Siddharth Malhotra has what it takes and gave his best performance as if he lived the character. The problem was with the screenplay and also I believe this war drama needed to be more energetic and length of the film could have been increased so as to create more built up about the kargil and also tell about one of the most toughest mountain warafare. I probably would have rated it 7 but I belive had this movie been released in cinemas the experience would have been more enriching like 'URI' In short watch it don't go by the negative reviews.\n",
                        "\n",
                        "Excellent direction Must watch movie after such a long time.\n",
                        "\n",
                        "One of the best movies i have watched recently. Makers tried their best and didn't ruin our hero. One of the most realistic movie. Sid performance is not best but decent. 10 stars just becz of our real hero.\n",
                        "\n",
                        "Screen play/acting/vfx/music all are superb.Great movie great acting block buster movie.Must watch for all indian.Jay hind🇮🇳 jay hind ki Sena🇮🇳🇮🇳🇮🇳\n",
                        "\n",
                        "The story of Captain Vikram Barra is awesome,Sidharth performance is outstanding 🙌🔥\n",
                        "\n",
                        "Sidarth Malhotra's portrayal of Capt. Vikram Batra is not just his career best performance, it's also a perfect tribute to one of India's bravest sons.\n",
                        "\n",
                        "Speechless, just short of words for this amazing film. Can't get better than this! A Must watch...\n",
                        "\n",
                        "5 for story\n",
                        "1 love angle\n",
                        "4 actingMast watch 👀🎥Scenes are realy awesome\n",
                        "I just loved it\n",
                        "Well done 👏💯\n",
                        "\n",
                        "Its not a movie...its an emotion..\n",
                        "Must watch.....\n",
                        "\n",
                        "If you miss out on #Shershaah, you are probably missing life. This film is a masterpiece. Sidharth malhotra is roaring like a lion. Kiara is awesome\n",
                        "Stars kmm pd jaenge mera bhai.\n",
                        "\n",
                        "Shershaah one of the most anticipated movie of 2021 finally has been released on ott. Does it lived up to the expectations? Undoubtedly Yes. The movie is solid as rock. The message in the movie is deeper than the ocean. The movie will touch your heart. It is better than the movies of Salman Khan in his entire career. Siddharth Malhotra has given his career best performance. Shershaah is even better than the every war movies in Bollywood. Salman and Akshay should learn some acting skills from Siddharth. Kiara looked beautiful in the movie. All the supporting casts have done commendable job.Overall SherShaah is a treat for the Indian audiences. It is made for both the masses and classes. Being an Indian you can't afford to miss this movie at any cost. You will get to see the sacrifice of indian soldiers for their country in the best way. Blockbuster.\n",
                        "\n",
                        "Best movie of Sid Malhotra and Kiara advani. Such an emotional in the end.\n",
                        "\n",
                        "This is the best bollywood film not just of this year but in the last few years. It basically focuses on the war moments because there are 6 action sequences which have been choreographed with perfection. The movie is very engaging, you can't skip a moment even the romantic ones because it was beautiful and so the songs.Undoubtedly, this is the best performance of Sidharth Malhotra till now. The film is full of spirit. There is no showing of forceful patriotism which was all over there in Bhuj trailer. After a long time I watched a movie that completely dried my throat.A Must Must Watch for everyone to understand what our army going through everyday in the field.Available on Amazon Prime Video.© MandalBros.\n",
                        "\n",
                        "Every one should watch this movie atleast once ..... 😍\n",
                        "\n",
                        "Awesome movie\n",
                        "Love it.Sid performance kill it\n",
                        "Superbly catch Captain V B life.\n",
                        "\n",
                        "I literally had Tears towards the end of the film. Salute to Capt. Vikram for sacrificing his valuable life for the sake of Bharat Mata!I too would like to say Yeh Dil Maange More!But why?We need more and more soldiers like Capt. Vikram Batra!In the movie, during the final assault I saw a Pakistan flag lying on the ground and our Soldiers were jumping over it! Why?They should have STUMPED THEIR FEET ON THE FLAG of the TERRORIST nation! Why show respect for the flag of the barbaric enemy of Bharat Mata? Why?Our soldiers also SHOULD NOT have buried the dead bodies of Pakistan soldiers, with full honour! Why do that? Shocking! This is Unnatural respect shown to the enemy!Please watch this Patriotic movie & please feel proud of our Indian Army! Audio-visually the film is well-made! Love the soulful background Songs! Siddharth is Ok as an actor. A better actor might have shown more intensity.Probably, the film should have been named as - Capt. Vikram Batra: Yeh Dil Maange More!PS: I watched the film within 6 hours of the release on Prime Video! Never done that before nor commented so early! After all there is a first time for everything. Isn't?\n",
                        "\n",
                        "Sid Malhotra.... U Nailed It.... What An Movie...Goosebumps.\n",
                        "\n",
                        "Realistic , convincing and sidhart's best movie till now.Some more detail should be there in war sequence.Over-all a well made movie without any hidden agenda.\n",
                        "\n",
                        "When sid says \" kuch bhi ho jaye tiranga 🇮🇳 hum hi lehrayenge \" it's just 😎 proud to be indian ❤\n",
                        "\n",
                        "Don't cloud the judgement that you should love the movie because it's patriotic.We are rating here for the movie and not the Martyr.Movie could not match upto the Uri : The Surgical Strike and Border Movie.Movie lacks the most essential part that is the adrenaline rush and suspenseful.There was only one goosebump moment at the end.Acting is super for the lead actors. But the side actors lacks the kick.If anyone would have asked me \"How's the Josh\"?I would say \"Low Sir\".I would say.. Lot's of room for improvement.But once again lead actors did their job very well .VFX effects are great and cinematography is superb👌.\n",
                        "\n",
                        "A very mediocre movie with a dull love story, crappy editing and a irrational screenplay. Complete respect to the real world Capt. Vikram Batra, but this movie doesn't do justice to his heriocs.Indian audience may have a tendency to rate Patriotic movies higher that usual, otherwise this high rating has no other explanation.\n",
                        "\n",
                        "Movie is one of the best movie made by Bollywood. VFX is so awesome. Everything is great.\n",
                        "\n",
                        "Masterpiece Sidharth Malhotra is outstanding performance.\n",
                        "\n"
                    ]
                }
            ],
            "metadata": {}
        },
        {
            "cell_type": "code",
            "execution_count": null,
            "source": [],
            "outputs": [],
            "metadata": {}
        }
    ],
    "metadata": {
        "orig_nbformat": 4,
        "language_info": {
            "name": "python",
            "version": "3.7.7",
            "mimetype": "text/x-python",
            "codemirror_mode": {
                "name": "ipython",
                "version": 3
            },
            "pygments_lexer": "ipython3",
            "nbconvert_exporter": "python",
            "file_extension": ".py"
        },
        "kernelspec": {
            "name": "python3",
            "display_name": "Python 3.7.7 64-bit ('envpytorch': conda)"
        },
        "interpreter": {
            "hash": "3b6455b69504b8a94a1539e72f4af9ed8e2ab7ecfd657aff850a659902fac746"
        }
    },
    "nbformat": 4,
    "nbformat_minor": 2
}